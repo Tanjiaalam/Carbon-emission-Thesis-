{
  "nbformat": 4,
  "nbformat_minor": 0,
  "metadata": {
    "colab": {
      "provenance": []
    },
    "kernelspec": {
      "name": "python3",
      "display_name": "Python 3"
    },
    "language_info": {
      "name": "python"
    }
  },
  "cells": [
    {
      "cell_type": "code",
      "source": [
        "import pandas as pd\n",
        "import matplotlib as mpl\n",
        "import matplotlib.pyplot as plt\n",
        "from sklearn.model_selection import train_test_split\n",
        "from keras.preprocessing.sequence import TimeseriesGenerator\n",
        "from sklearn.preprocessing import MinMaxScaler, StandardScaler\n",
        "import tensorflow as tf\n",
        "\n",
        "mpl.rcParams['figure.figsize'] = (10, 8)\n",
        "mpl.rcParams['axes.grid'] = False"
      ],
      "metadata": {
        "id": "IYN99cu-DsLJ"
      },
      "execution_count": null,
      "outputs": []
    },
    {
      "cell_type": "code",
      "source": [
        "\n",
        "df = pd.read_csv('https://raw.githubusercontent.com/Tanjiaalam/carbon/main/data_cleanednew.csv')"
      ],
      "metadata": {
        "id": "C8QMBPhrEIBZ"
      },
      "execution_count": null,
      "outputs": []
    },
    {
      "cell_type": "code",
      "source": [
        "\n",
        "df['year'] = pd.to_datetime(df['year'], infer_datetime_format=True)"
      ],
      "metadata": {
        "id": "dOGT8kbfEQsq"
      },
      "execution_count": null,
      "outputs": []
    },
    {
      "cell_type": "code",
      "source": [
        "from sklearn.preprocessing import OrdinalEncoder\n",
        "enc = OrdinalEncoder()\n",
        "print(enc)"
      ],
      "metadata": {
        "colab": {
          "base_uri": "https://localhost:8080/"
        },
        "id": "YtMzsAE1JAW5",
        "outputId": "5606f816-f423-491a-ffc5-c6b7b8aedc13"
      },
      "execution_count": null,
      "outputs": [
        {
          "output_type": "stream",
          "name": "stdout",
          "text": [
            "OrdinalEncoder()\n"
          ]
        }
      ]
    },
    {
      "cell_type": "code",
      "source": [
        "enc.fit_transform(df[[\"country\"]])"
      ],
      "metadata": {
        "colab": {
          "base_uri": "https://localhost:8080/"
        },
        "id": "FAQOLHYVJJRW",
        "outputId": "7e5091ce-32e6-42ef-811a-e6c5d874bd94"
      },
      "execution_count": null,
      "outputs": [
        {
          "output_type": "execute_result",
          "data": {
            "text/plain": [
              "array([[ 0.],\n",
              "       [ 1.],\n",
              "       [ 2.],\n",
              "       ...,\n",
              "       [93.],\n",
              "       [94.],\n",
              "       [95.]])"
            ]
          },
          "metadata": {},
          "execution_count": 9
        }
      ]
    },
    {
      "cell_type": "code",
      "source": [
        "df[[\"country\"]]=enc.fit_transform(df[[\"country\"]])"
      ],
      "metadata": {
        "id": "6osBmKiAJNvJ"
      },
      "execution_count": null,
      "outputs": []
    },
    {
      "cell_type": "code",
      "source": [
        "from sklearn.preprocessing import OrdinalEncoder\n",
        "encoder = OrdinalEncoder(categories=\"auto\")\n",
        "encoder.fit(df)\n",
        "encoder.transform(df)\n",
        "df"
      ],
      "metadata": {
        "colab": {
          "base_uri": "https://localhost:8080/",
          "height": 661
        },
        "id": "tYNERoP1JSQg",
        "outputId": "5947fee2-d4eb-4e97-ba06-a5cfbc4e4903"
      },
      "execution_count": null,
      "outputs": [
        {
          "output_type": "execute_result",
          "data": {
            "text/plain": [
              "      country       year  cereal_yield  fdi_perc_gdp   en_per_gdp  \\\n",
              "0         0.0 1991-01-01         417.4      5.449515   179.271884   \n",
              "1         1.0 1991-01-01        1594.0      0.076475   245.977706   \n",
              "2         2.0 1991-01-01        2666.1      1.285579   173.122857   \n",
              "3         4.0 1991-01-01        1603.3      1.306912   208.686644   \n",
              "4         5.0 1991-01-01        5463.0      0.209142   128.939160   \n",
              "...       ...        ...           ...           ...          ...   \n",
              "1695     90.0 2008-01-01        5064.2     10.611056   266.177197   \n",
              "1696     92.0 2008-01-01         939.1      5.775544   142.167696   \n",
              "1697     93.0 2008-01-01        4055.3      3.503662   320.191040   \n",
              "1698     94.0 2008-01-01         771.5     14.798970  1193.887219   \n",
              "1699     95.0 2008-01-01        2144.0      6.410991   481.196265   \n",
              "\n",
              "        en_per_cap     co2_ttl  co2_per_gdp  pop_urb_aggl_perc  \\\n",
              "0       565.451027    4367.397   129.971142          15.290728   \n",
              "1     12262.388130   57010.849   598.807980          26.377204   \n",
              "2      1434.960601  117021.304   426.614517          39.119646   \n",
              "3      4926.727783  281530.258   689.948873          60.356798   \n",
              "4      3381.073790   65888.656   322.186648          19.746121   \n",
              "...            ...         ...          ...                ...   \n",
              "1695    694.872260  127384.246   573.242319          12.016197   \n",
              "1696    320.226397   23384.459   458.830121           9.356326   \n",
              "1697   3074.597450  435877.955   930.310881          33.234023   \n",
              "1698    356.023405    2816.256   151.165020          17.352516   \n",
              "1699    614.851742    1888.505   119.388624          11.109605   \n",
              "\n",
              "      prot_area_perc           gdp  gni_per_cap  under_5_mort_rate  \\\n",
              "0          12.399822  1.219375e+10        820.0              239.1   \n",
              "1           0.266886  3.391964e+10      19340.0               20.5   \n",
              "2           4.772468  1.900000e+11       3960.0               25.8   \n",
              "3           7.915273  3.300000e+11      18380.0                8.6   \n",
              "4          20.991143  1.720000e+11      21200.0                8.9   \n",
              "...              ...           ...          ...                ...   \n",
              "1695        6.166789  9.027376e+10        920.0               25.2   \n",
              "1696        0.520661  2.691736e+10        970.0               81.1   \n",
              "1697        6.859550  2.750000e+11       5860.0               65.6   \n",
              "1698        9.986567  1.166838e+10        160.0              174.4   \n",
              "1699       35.983018  1.464079e+10        970.0              121.8   \n",
              "\n",
              "      pop_growth_perc         pop  urb_pop_growth_perc       urb_pop  \\\n",
              "0            3.034866  10653515.0             6.687032  4.099473e+06   \n",
              "1            5.442852   1909812.0             5.265704  1.507988e+06   \n",
              "2            1.372593  33093579.0             1.762636  2.890393e+07   \n",
              "3            1.274577  17284000.0             1.438378  1.478473e+07   \n",
              "4            1.134999   7798899.0             1.134999  5.131676e+06   \n",
              "...               ...         ...                  ...           ...   \n",
              "1695         1.064356  85122300.0             2.803530  2.369805e+07   \n",
              "1696         3.049598  22626595.0             4.960694  6.932789e+06   \n",
              "1697         1.104057  48793022.0             1.897450  2.963688e+07   \n",
              "1698         2.763286  62474901.0             4.605834  2.121648e+07   \n",
              "1699         2.653956  12379612.0             3.049996  4.384859e+06   \n",
              "\n",
              "      co2_per_cap  \n",
              "0        0.409949  \n",
              "1       29.851550  \n",
              "2        3.536073  \n",
              "3       16.288490  \n",
              "4        8.448456  \n",
              "...           ...  \n",
              "1695     1.496485  \n",
              "1696     1.033494  \n",
              "1697     8.933203  \n",
              "1698     0.045078  \n",
              "1699     0.152550  \n",
              "\n",
              "[1700 rows x 18 columns]"
            ],
            "text/html": [
              "\n",
              "  <div id=\"df-b0239596-93ee-4c2a-9b18-f47b50e4d134\">\n",
              "    <div class=\"colab-df-container\">\n",
              "      <div>\n",
              "<style scoped>\n",
              "    .dataframe tbody tr th:only-of-type {\n",
              "        vertical-align: middle;\n",
              "    }\n",
              "\n",
              "    .dataframe tbody tr th {\n",
              "        vertical-align: top;\n",
              "    }\n",
              "\n",
              "    .dataframe thead th {\n",
              "        text-align: right;\n",
              "    }\n",
              "</style>\n",
              "<table border=\"1\" class=\"dataframe\">\n",
              "  <thead>\n",
              "    <tr style=\"text-align: right;\">\n",
              "      <th></th>\n",
              "      <th>country</th>\n",
              "      <th>year</th>\n",
              "      <th>cereal_yield</th>\n",
              "      <th>fdi_perc_gdp</th>\n",
              "      <th>en_per_gdp</th>\n",
              "      <th>en_per_cap</th>\n",
              "      <th>co2_ttl</th>\n",
              "      <th>co2_per_gdp</th>\n",
              "      <th>pop_urb_aggl_perc</th>\n",
              "      <th>prot_area_perc</th>\n",
              "      <th>gdp</th>\n",
              "      <th>gni_per_cap</th>\n",
              "      <th>under_5_mort_rate</th>\n",
              "      <th>pop_growth_perc</th>\n",
              "      <th>pop</th>\n",
              "      <th>urb_pop_growth_perc</th>\n",
              "      <th>urb_pop</th>\n",
              "      <th>co2_per_cap</th>\n",
              "    </tr>\n",
              "  </thead>\n",
              "  <tbody>\n",
              "    <tr>\n",
              "      <th>0</th>\n",
              "      <td>0.0</td>\n",
              "      <td>1991-01-01</td>\n",
              "      <td>417.4</td>\n",
              "      <td>5.449515</td>\n",
              "      <td>179.271884</td>\n",
              "      <td>565.451027</td>\n",
              "      <td>4367.397</td>\n",
              "      <td>129.971142</td>\n",
              "      <td>15.290728</td>\n",
              "      <td>12.399822</td>\n",
              "      <td>1.219375e+10</td>\n",
              "      <td>820.0</td>\n",
              "      <td>239.1</td>\n",
              "      <td>3.034866</td>\n",
              "      <td>10653515.0</td>\n",
              "      <td>6.687032</td>\n",
              "      <td>4.099473e+06</td>\n",
              "      <td>0.409949</td>\n",
              "    </tr>\n",
              "    <tr>\n",
              "      <th>1</th>\n",
              "      <td>1.0</td>\n",
              "      <td>1991-01-01</td>\n",
              "      <td>1594.0</td>\n",
              "      <td>0.076475</td>\n",
              "      <td>245.977706</td>\n",
              "      <td>12262.388130</td>\n",
              "      <td>57010.849</td>\n",
              "      <td>598.807980</td>\n",
              "      <td>26.377204</td>\n",
              "      <td>0.266886</td>\n",
              "      <td>3.391964e+10</td>\n",
              "      <td>19340.0</td>\n",
              "      <td>20.5</td>\n",
              "      <td>5.442852</td>\n",
              "      <td>1909812.0</td>\n",
              "      <td>5.265704</td>\n",
              "      <td>1.507988e+06</td>\n",
              "      <td>29.851550</td>\n",
              "    </tr>\n",
              "    <tr>\n",
              "      <th>2</th>\n",
              "      <td>2.0</td>\n",
              "      <td>1991-01-01</td>\n",
              "      <td>2666.1</td>\n",
              "      <td>1.285579</td>\n",
              "      <td>173.122857</td>\n",
              "      <td>1434.960601</td>\n",
              "      <td>117021.304</td>\n",
              "      <td>426.614517</td>\n",
              "      <td>39.119646</td>\n",
              "      <td>4.772468</td>\n",
              "      <td>1.900000e+11</td>\n",
              "      <td>3960.0</td>\n",
              "      <td>25.8</td>\n",
              "      <td>1.372593</td>\n",
              "      <td>33093579.0</td>\n",
              "      <td>1.762636</td>\n",
              "      <td>2.890393e+07</td>\n",
              "      <td>3.536073</td>\n",
              "    </tr>\n",
              "    <tr>\n",
              "      <th>3</th>\n",
              "      <td>4.0</td>\n",
              "      <td>1991-01-01</td>\n",
              "      <td>1603.3</td>\n",
              "      <td>1.306912</td>\n",
              "      <td>208.686644</td>\n",
              "      <td>4926.727783</td>\n",
              "      <td>281530.258</td>\n",
              "      <td>689.948873</td>\n",
              "      <td>60.356798</td>\n",
              "      <td>7.915273</td>\n",
              "      <td>3.300000e+11</td>\n",
              "      <td>18380.0</td>\n",
              "      <td>8.6</td>\n",
              "      <td>1.274577</td>\n",
              "      <td>17284000.0</td>\n",
              "      <td>1.438378</td>\n",
              "      <td>1.478473e+07</td>\n",
              "      <td>16.288490</td>\n",
              "    </tr>\n",
              "    <tr>\n",
              "      <th>4</th>\n",
              "      <td>5.0</td>\n",
              "      <td>1991-01-01</td>\n",
              "      <td>5463.0</td>\n",
              "      <td>0.209142</td>\n",
              "      <td>128.939160</td>\n",
              "      <td>3381.073790</td>\n",
              "      <td>65888.656</td>\n",
              "      <td>322.186648</td>\n",
              "      <td>19.746121</td>\n",
              "      <td>20.991143</td>\n",
              "      <td>1.720000e+11</td>\n",
              "      <td>21200.0</td>\n",
              "      <td>8.9</td>\n",
              "      <td>1.134999</td>\n",
              "      <td>7798899.0</td>\n",
              "      <td>1.134999</td>\n",
              "      <td>5.131676e+06</td>\n",
              "      <td>8.448456</td>\n",
              "    </tr>\n",
              "    <tr>\n",
              "      <th>...</th>\n",
              "      <td>...</td>\n",
              "      <td>...</td>\n",
              "      <td>...</td>\n",
              "      <td>...</td>\n",
              "      <td>...</td>\n",
              "      <td>...</td>\n",
              "      <td>...</td>\n",
              "      <td>...</td>\n",
              "      <td>...</td>\n",
              "      <td>...</td>\n",
              "      <td>...</td>\n",
              "      <td>...</td>\n",
              "      <td>...</td>\n",
              "      <td>...</td>\n",
              "      <td>...</td>\n",
              "      <td>...</td>\n",
              "      <td>...</td>\n",
              "      <td>...</td>\n",
              "    </tr>\n",
              "    <tr>\n",
              "      <th>1695</th>\n",
              "      <td>90.0</td>\n",
              "      <td>2008-01-01</td>\n",
              "      <td>5064.2</td>\n",
              "      <td>10.611056</td>\n",
              "      <td>266.177197</td>\n",
              "      <td>694.872260</td>\n",
              "      <td>127384.246</td>\n",
              "      <td>573.242319</td>\n",
              "      <td>12.016197</td>\n",
              "      <td>6.166789</td>\n",
              "      <td>9.027376e+10</td>\n",
              "      <td>920.0</td>\n",
              "      <td>25.2</td>\n",
              "      <td>1.064356</td>\n",
              "      <td>85122300.0</td>\n",
              "      <td>2.803530</td>\n",
              "      <td>2.369805e+07</td>\n",
              "      <td>1.496485</td>\n",
              "    </tr>\n",
              "    <tr>\n",
              "      <th>1696</th>\n",
              "      <td>92.0</td>\n",
              "      <td>2008-01-01</td>\n",
              "      <td>939.1</td>\n",
              "      <td>5.775544</td>\n",
              "      <td>142.167696</td>\n",
              "      <td>320.226397</td>\n",
              "      <td>23384.459</td>\n",
              "      <td>458.830121</td>\n",
              "      <td>9.356326</td>\n",
              "      <td>0.520661</td>\n",
              "      <td>2.691736e+10</td>\n",
              "      <td>970.0</td>\n",
              "      <td>81.1</td>\n",
              "      <td>3.049598</td>\n",
              "      <td>22626595.0</td>\n",
              "      <td>4.960694</td>\n",
              "      <td>6.932789e+06</td>\n",
              "      <td>1.033494</td>\n",
              "    </tr>\n",
              "    <tr>\n",
              "      <th>1697</th>\n",
              "      <td>93.0</td>\n",
              "      <td>2008-01-01</td>\n",
              "      <td>4055.3</td>\n",
              "      <td>3.503662</td>\n",
              "      <td>320.191040</td>\n",
              "      <td>3074.597450</td>\n",
              "      <td>435877.955</td>\n",
              "      <td>930.310881</td>\n",
              "      <td>33.234023</td>\n",
              "      <td>6.859550</td>\n",
              "      <td>2.750000e+11</td>\n",
              "      <td>5860.0</td>\n",
              "      <td>65.6</td>\n",
              "      <td>1.104057</td>\n",
              "      <td>48793022.0</td>\n",
              "      <td>1.897450</td>\n",
              "      <td>2.963688e+07</td>\n",
              "      <td>8.933203</td>\n",
              "    </tr>\n",
              "    <tr>\n",
              "      <th>1698</th>\n",
              "      <td>94.0</td>\n",
              "      <td>2008-01-01</td>\n",
              "      <td>771.5</td>\n",
              "      <td>14.798970</td>\n",
              "      <td>1193.887219</td>\n",
              "      <td>356.023405</td>\n",
              "      <td>2816.256</td>\n",
              "      <td>151.165020</td>\n",
              "      <td>17.352516</td>\n",
              "      <td>9.986567</td>\n",
              "      <td>1.166838e+10</td>\n",
              "      <td>160.0</td>\n",
              "      <td>174.4</td>\n",
              "      <td>2.763286</td>\n",
              "      <td>62474901.0</td>\n",
              "      <td>4.605834</td>\n",
              "      <td>2.121648e+07</td>\n",
              "      <td>0.045078</td>\n",
              "    </tr>\n",
              "    <tr>\n",
              "      <th>1699</th>\n",
              "      <td>95.0</td>\n",
              "      <td>2008-01-01</td>\n",
              "      <td>2144.0</td>\n",
              "      <td>6.410991</td>\n",
              "      <td>481.196265</td>\n",
              "      <td>614.851742</td>\n",
              "      <td>1888.505</td>\n",
              "      <td>119.388624</td>\n",
              "      <td>11.109605</td>\n",
              "      <td>35.983018</td>\n",
              "      <td>1.464079e+10</td>\n",
              "      <td>970.0</td>\n",
              "      <td>121.8</td>\n",
              "      <td>2.653956</td>\n",
              "      <td>12379612.0</td>\n",
              "      <td>3.049996</td>\n",
              "      <td>4.384859e+06</td>\n",
              "      <td>0.152550</td>\n",
              "    </tr>\n",
              "  </tbody>\n",
              "</table>\n",
              "<p>1700 rows × 18 columns</p>\n",
              "</div>\n",
              "      <button class=\"colab-df-convert\" onclick=\"convertToInteractive('df-b0239596-93ee-4c2a-9b18-f47b50e4d134')\"\n",
              "              title=\"Convert this dataframe to an interactive table.\"\n",
              "              style=\"display:none;\">\n",
              "        \n",
              "  <svg xmlns=\"http://www.w3.org/2000/svg\" height=\"24px\"viewBox=\"0 0 24 24\"\n",
              "       width=\"24px\">\n",
              "    <path d=\"M0 0h24v24H0V0z\" fill=\"none\"/>\n",
              "    <path d=\"M18.56 5.44l.94 2.06.94-2.06 2.06-.94-2.06-.94-.94-2.06-.94 2.06-2.06.94zm-11 1L8.5 8.5l.94-2.06 2.06-.94-2.06-.94L8.5 2.5l-.94 2.06-2.06.94zm10 10l.94 2.06.94-2.06 2.06-.94-2.06-.94-.94-2.06-.94 2.06-2.06.94z\"/><path d=\"M17.41 7.96l-1.37-1.37c-.4-.4-.92-.59-1.43-.59-.52 0-1.04.2-1.43.59L10.3 9.45l-7.72 7.72c-.78.78-.78 2.05 0 2.83L4 21.41c.39.39.9.59 1.41.59.51 0 1.02-.2 1.41-.59l7.78-7.78 2.81-2.81c.8-.78.8-2.07 0-2.86zM5.41 20L4 18.59l7.72-7.72 1.47 1.35L5.41 20z\"/>\n",
              "  </svg>\n",
              "      </button>\n",
              "      \n",
              "  <style>\n",
              "    .colab-df-container {\n",
              "      display:flex;\n",
              "      flex-wrap:wrap;\n",
              "      gap: 12px;\n",
              "    }\n",
              "\n",
              "    .colab-df-convert {\n",
              "      background-color: #E8F0FE;\n",
              "      border: none;\n",
              "      border-radius: 50%;\n",
              "      cursor: pointer;\n",
              "      display: none;\n",
              "      fill: #1967D2;\n",
              "      height: 32px;\n",
              "      padding: 0 0 0 0;\n",
              "      width: 32px;\n",
              "    }\n",
              "\n",
              "    .colab-df-convert:hover {\n",
              "      background-color: #E2EBFA;\n",
              "      box-shadow: 0px 1px 2px rgba(60, 64, 67, 0.3), 0px 1px 3px 1px rgba(60, 64, 67, 0.15);\n",
              "      fill: #174EA6;\n",
              "    }\n",
              "\n",
              "    [theme=dark] .colab-df-convert {\n",
              "      background-color: #3B4455;\n",
              "      fill: #D2E3FC;\n",
              "    }\n",
              "\n",
              "    [theme=dark] .colab-df-convert:hover {\n",
              "      background-color: #434B5C;\n",
              "      box-shadow: 0px 1px 3px 1px rgba(0, 0, 0, 0.15);\n",
              "      filter: drop-shadow(0px 1px 2px rgba(0, 0, 0, 0.3));\n",
              "      fill: #FFFFFF;\n",
              "    }\n",
              "  </style>\n",
              "\n",
              "      <script>\n",
              "        const buttonEl =\n",
              "          document.querySelector('#df-b0239596-93ee-4c2a-9b18-f47b50e4d134 button.colab-df-convert');\n",
              "        buttonEl.style.display =\n",
              "          google.colab.kernel.accessAllowed ? 'block' : 'none';\n",
              "\n",
              "        async function convertToInteractive(key) {\n",
              "          const element = document.querySelector('#df-b0239596-93ee-4c2a-9b18-f47b50e4d134');\n",
              "          const dataTable =\n",
              "            await google.colab.kernel.invokeFunction('convertToInteractive',\n",
              "                                                     [key], {});\n",
              "          if (!dataTable) return;\n",
              "\n",
              "          const docLinkHtml = 'Like what you see? Visit the ' +\n",
              "            '<a target=\"_blank\" href=https://colab.research.google.com/notebooks/data_table.ipynb>data table notebook</a>'\n",
              "            + ' to learn more about interactive tables.';\n",
              "          element.innerHTML = '';\n",
              "          dataTable['output_type'] = 'display_data';\n",
              "          await google.colab.output.renderOutput(dataTable, element);\n",
              "          const docLink = document.createElement('div');\n",
              "          docLink.innerHTML = docLinkHtml;\n",
              "          element.appendChild(docLink);\n",
              "        }\n",
              "      </script>\n",
              "    </div>\n",
              "  </div>\n",
              "  "
            ]
          },
          "metadata": {},
          "execution_count": 11
        }
      ]
    },
    {
      "cell_type": "code",
      "source": [
        "df.set_index('year')[['co2_per_cap','country']].plot(subplots=True)"
      ],
      "metadata": {
        "colab": {
          "base_uri": "https://localhost:8080/",
          "height": 520
        },
        "id": "fTqK5TkZEk9p",
        "outputId": "663aaa04-2149-4d1f-d946-eb45dde1b0df"
      },
      "execution_count": null,
      "outputs": [
        {
          "output_type": "execute_result",
          "data": {
            "text/plain": [
              "array([<matplotlib.axes._subplots.AxesSubplot object at 0x7f0479f35e50>,\n",
              "       <matplotlib.axes._subplots.AxesSubplot object at 0x7f0479e9a520>],\n",
              "      dtype=object)"
            ]
          },
          "metadata": {},
          "execution_count": 12
        },
        {
          "output_type": "display_data",
          "data": {
            "text/plain": [
              "<Figure size 720x576 with 2 Axes>"
            ],
            "image/png": "[encoded data removed]"
          },
          "metadata": {
            "needs_background": "light"
          }
        }
      ]
    },
    {
      "cell_type": "code",
      "source": [
        "\n",
        "df_input=df[['co2_per_cap','country']]"
      ],
      "metadata": {
        "id": "weNEaKDNFS3C"
      },
      "execution_count": null,
      "outputs": []
    },
    {
      "cell_type": "code",
      "source": [
        "\n",
        "scaler = MinMaxScaler()\n",
        "data_scaled = scaler.fit_transform(df_input)"
      ],
      "metadata": {
        "id": "VTTpwPgmFubQ"
      },
      "execution_count": null,
      "outputs": []
    },
    {
      "cell_type": "code",
      "source": [
        "data_scaled"
      ],
      "metadata": {
        "colab": {
          "base_uri": "https://localhost:8080/"
        },
        "id": "MP8ARiWEF4Ew",
        "outputId": "d8f50981-cf85-43f8-a686-fa373dc954b9"
      },
      "execution_count": null,
      "outputs": [
        {
          "output_type": "execute_result",
          "data": {
            "text/plain": [
              "array([[1.02634331e-02, 0.00000000e+00],\n",
              "       [8.04327973e-01, 1.05263158e-02],\n",
              "       [9.45776004e-02, 2.10526316e-02],\n",
              "       ...,\n",
              "       [2.40142694e-01, 9.78947368e-01],\n",
              "       [4.22565378e-04, 9.89473684e-01],\n",
              "       [3.32115898e-03, 1.00000000e+00]])"
            ]
          },
          "metadata": {},
          "execution_count": 15
        }
      ]
    },
    {
      "cell_type": "code",
      "source": [
        "features=data_scaled\n",
        "#features=df_input\n",
        "target=data_scaled[:,0]\n"
      ],
      "metadata": {
        "id": "bkUDKSMHGDEo"
      },
      "execution_count": null,
      "outputs": []
    },
    {
      "cell_type": "code",
      "source": [
        "target"
      ],
      "metadata": {
        "colab": {
          "base_uri": "https://localhost:8080/"
        },
        "id": "Kuf7e36FGPRJ",
        "outputId": "cc213c33-d354-4c58-8157-6b79e279f824"
      },
      "execution_count": null,
      "outputs": [
        {
          "output_type": "execute_result",
          "data": {
            "text/plain": [
              "array([1.02634331e-02, 8.04327973e-01, 9.45776004e-02, ...,\n",
              "       2.40142694e-01, 4.22565378e-04, 3.32115898e-03])"
            ]
          },
          "metadata": {},
          "execution_count": 17
        }
      ]
    },
    {
      "cell_type": "code",
      "source": [
        "TimeseriesGenerator(features, target, length=2, sampling_rate=1, batch_size=1)[0]"
      ],
      "metadata": {
        "colab": {
          "base_uri": "https://localhost:8080/"
        },
        "id": "fyYKR8XnGuM7",
        "outputId": "91edf7f8-f0cb-4fb3-bcf5-30492666f9f9"
      },
      "execution_count": null,
      "outputs": [
        {
          "output_type": "execute_result",
          "data": {
            "text/plain": [
              "(array([[[0.01026343, 0.        ],\n",
              "         [0.80432797, 0.01052632]]]), array([0.0945776]))"
            ]
          },
          "metadata": {},
          "execution_count": 18
        }
      ]
    },
    {
      "cell_type": "code",
      "source": [
        "x_train, x_test, y_train, y_test = train_test_split(features, target, test_size=0.20, random_state=123, shuffle = False)"
      ],
      "metadata": {
        "id": "P7tUizvBJvGM"
      },
      "execution_count": null,
      "outputs": []
    },
    {
      "cell_type": "code",
      "source": [
        "x_train.shape"
      ],
      "metadata": {
        "colab": {
          "base_uri": "https://localhost:8080/"
        },
        "id": "vYB_UOIlKWaY",
        "outputId": "a1d51852-b891-4b73-e232-080cf37c2144"
      },
      "execution_count": null,
      "outputs": [
        {
          "output_type": "execute_result",
          "data": {
            "text/plain": [
              "(1360, 2)"
            ]
          },
          "metadata": {},
          "execution_count": 20
        }
      ]
    },
    {
      "cell_type": "code",
      "source": [
        "x_test.shape"
      ],
      "metadata": {
        "colab": {
          "base_uri": "https://localhost:8080/"
        },
        "id": "paqBKTZUKajK",
        "outputId": "1fbdcdf3-2a18-4d68-f032-706074628e88"
      },
      "execution_count": null,
      "outputs": [
        {
          "output_type": "execute_result",
          "data": {
            "text/plain": [
              "(340, 2)"
            ]
          },
          "metadata": {},
          "execution_count": 21
        }
      ]
    },
    {
      "cell_type": "code",
      "source": [
        "win_length=230\n",
        "batch_size=32\n",
        "num_features=2\n",
        "train_generator = TimeseriesGenerator(x_train, y_train, length=win_length, sampling_rate=1, batch_size=batch_size)\n",
        "test_generator = TimeseriesGenerator(x_test, y_test, length=win_length, sampling_rate=1, batch_size=batch_size)"
      ],
      "metadata": {
        "id": "cR4Lw9HEKiPp"
      },
      "execution_count": null,
      "outputs": []
    },
    {
      "cell_type": "code",
      "source": [
        "\n",
        "train_generator[0]"
      ],
      "metadata": {
        "colab": {
          "base_uri": "https://localhost:8080/"
        },
        "id": "k9bdWJSYKiS1",
        "outputId": "9b21bb20-0daf-421c-b1cf-947b0fb653ea"
      },
      "execution_count": null,
      "outputs": [
        {
          "output_type": "execute_result",
          "data": {
            "text/plain": [
              "(array([[[0.01026343, 0.        ],\n",
              "         [0.80432797, 0.01052632],\n",
              "         [0.0945776 , 0.02105263],\n",
              "         ...,\n",
              "         [0.06076976, 0.55789474],\n",
              "         [0.02835714, 0.56842105],\n",
              "         [0.10255093, 0.57894737]],\n",
              " \n",
              "        [[0.80432797, 0.01052632],\n",
              "         [0.0945776 , 0.02105263],\n",
              "         [0.43852092, 0.04210526],\n",
              "         ...,\n",
              "         [0.02835714, 0.56842105],\n",
              "         [0.10255093, 0.57894737],\n",
              "         [0.0668465 , 0.58947368]],\n",
              " \n",
              "        [[0.0945776 , 0.02105263],\n",
              "         [0.43852092, 0.04210526],\n",
              "         [0.22706868, 0.05263158],\n",
              "         ...,\n",
              "         [0.10255093, 0.57894737],\n",
              "         [0.0668465 , 0.58947368],\n",
              "         [0.07071542, 0.6       ]],\n",
              " \n",
              "        ...,\n",
              " \n",
              "        [[0.00637606, 0.35789474],\n",
              "         [0.17695091, 0.36842105],\n",
              "         [0.01413237, 0.37894737],\n",
              "         ...,\n",
              "         [0.07698449, 0.86315789],\n",
              "         [0.00173269, 0.87368421],\n",
              "         [0.2814856 , 0.88421053]],\n",
              " \n",
              "        [[0.17695091, 0.36842105],\n",
              "         [0.01413237, 0.37894737],\n",
              "         [0.01368741, 0.38947368],\n",
              "         ...,\n",
              "         [0.00173269, 0.87368421],\n",
              "         [0.2814856 , 0.88421053],\n",
              "         [0.0970882 , 0.89473684]],\n",
              " \n",
              "        [[0.01413237, 0.37894737],\n",
              "         [0.01368741, 0.38947368],\n",
              "         [0.16413886, 0.4       ],\n",
              "         ...,\n",
              "         [0.2814856 , 0.88421053],\n",
              "         [0.0970882 , 0.89473684],\n",
              "         [0.03712347, 0.90526316]]]),\n",
              " array([0.0668465 , 0.07071542, 0.00116422, 0.1247742 , 0.01464461,\n",
              "        0.30308962, 0.1918224 , 0.01659043, 0.04254448, 0.02685436,\n",
              "        0.02011144, 0.2464246 , 0.12757913, 0.01660875, 0.14396755,\n",
              "        0.36785463, 0.01995263, 0.48061228, 0.00194851, 0.01145226,\n",
              "        0.01799871, 0.0232204 , 0.16362379, 0.09376823, 0.00519543,\n",
              "        0.06473839, 0.07698449, 0.00173269, 0.2814856 , 0.0970882 ,\n",
              "        0.03712347, 0.53541759]))"
            ]
          },
          "metadata": {},
          "execution_count": 25
        }
      ]
    },
    {
      "cell_type": "code",
      "source": [
        "model = tf.keras.Sequential()\n",
        "model.add(tf.keras.layers.LSTM(128, input_shape= (win_length, num_features), return_sequences=True))\n",
        "model.add(tf.keras.layers.LeakyReLU(alpha=0.5)) \n",
        "model.add(tf.keras.layers.LSTM(128, return_sequences=True))\n",
        "model.add(tf.keras.layers.LeakyReLU(alpha=0.5)) \n",
        "model.add(tf.keras.layers.Dropout(0.2)) \n",
        "model.add(tf.keras.layers.LSTM(64, return_sequences=False))\n",
        "model.add(tf.keras.layers.Dropout(0.2)) \n",
        "model.add(tf.keras.layers.Dense(1))"
      ],
      "metadata": {
        "id": "u5fjn2wNL2cj"
      },
      "execution_count": null,
      "outputs": []
    },
    {
      "cell_type": "code",
      "source": [
        "early_stopping = tf.keras.callbacks.EarlyStopping(monitor='val_loss',\n",
        "                                                    patience=2,\n",
        "                                                    mode='min')\n",
        "\n",
        "model.compile(loss=tf.losses.MeanSquaredError(),\n",
        "              optimizer=tf.optimizers.Adam(),\n",
        "              metrics=[tf.metrics.MeanAbsoluteError()])\n",
        "\n",
        "history = model.fit_generator(train_generator, epochs=50,\n",
        "                    validation_data=test_generator,\n",
        "                    shuffle=False,\n",
        "                    callbacks=[early_stopping])"
      ],
      "metadata": {
        "colab": {
          "base_uri": "https://localhost:8080/"
        },
        "id": "Geo9B8RFNScR",
        "outputId": "4245d099-b21a-4869-8019-3086d7f09b1b"
      },
      "execution_count": null,
      "outputs": [
        {
          "output_type": "stream",
          "name": "stdout",
          "text": [
            "Epoch 1/50\n"
          ]
        },
        {
          "output_type": "stream",
          "name": "stderr",
          "text": [
            "<ipython-input-27-3b00c92e395b>:9: UserWarning: `Model.fit_generator` is deprecated and will be removed in a future version. Please use `Model.fit`, which supports generators.\n",
            "  history = model.fit_generator(train_generator, epochs=50,\n"
          ]
        },
        {
          "output_type": "stream",
          "name": "stdout",
          "text": [
            "36/36 [==============================] - 41s 971ms/step - loss: 0.0196 - mean_absolute_error: 0.1066 - val_loss: 0.0142 - val_mean_absolute_error: 0.0944\n",
            "Epoch 2/50\n",
            "36/36 [==============================] - 33s 912ms/step - loss: 0.0183 - mean_absolute_error: 0.1040 - val_loss: 0.0141 - val_mean_absolute_error: 0.0943\n",
            "Epoch 3/50\n",
            "36/36 [==============================] - 32s 892ms/step - loss: 0.0183 - mean_absolute_error: 0.1039 - val_loss: 0.0140 - val_mean_absolute_error: 0.0927\n",
            "Epoch 4/50\n",
            "36/36 [==============================] - 33s 918ms/step - loss: 0.0183 - mean_absolute_error: 0.1035 - val_loss: 0.0138 - val_mean_absolute_error: 0.0910\n",
            "Epoch 5/50\n",
            "36/36 [==============================] - 32s 883ms/step - loss: 0.0179 - mean_absolute_error: 0.1025 - val_loss: 0.0136 - val_mean_absolute_error: 0.0888\n",
            "Epoch 6/50\n",
            "36/36 [==============================] - 34s 939ms/step - loss: 0.0175 - mean_absolute_error: 0.1005 - val_loss: 0.0133 - val_mean_absolute_error: 0.0869\n",
            "Epoch 7/50\n",
            "36/36 [==============================] - 32s 880ms/step - loss: 0.0177 - mean_absolute_error: 0.1007 - val_loss: 0.0133 - val_mean_absolute_error: 0.0855\n",
            "Epoch 8/50\n",
            "36/36 [==============================] - 32s 876ms/step - loss: 0.0172 - mean_absolute_error: 0.0986 - val_loss: 0.0135 - val_mean_absolute_error: 0.0846\n",
            "Epoch 9/50\n",
            "36/36 [==============================] - 32s 886ms/step - loss: 0.0171 - mean_absolute_error: 0.0986 - val_loss: 0.0132 - val_mean_absolute_error: 0.0830\n",
            "Epoch 10/50\n",
            "36/36 [==============================] - 31s 873ms/step - loss: 0.0171 - mean_absolute_error: 0.0981 - val_loss: 0.0127 - val_mean_absolute_error: 0.0860\n",
            "Epoch 11/50\n",
            "36/36 [==============================] - 33s 917ms/step - loss: 0.0167 - mean_absolute_error: 0.0972 - val_loss: 0.0126 - val_mean_absolute_error: 0.0832\n",
            "Epoch 12/50\n",
            "36/36 [==============================] - 32s 880ms/step - loss: 0.0167 - mean_absolute_error: 0.0965 - val_loss: 0.0126 - val_mean_absolute_error: 0.0833\n",
            "Epoch 13/50\n",
            "36/36 [==============================] - 31s 874ms/step - loss: 0.0166 - mean_absolute_error: 0.0962 - val_loss: 0.0127 - val_mean_absolute_error: 0.0844\n"
          ]
        }
      ]
    },
    {
      "cell_type": "code",
      "source": [
        "model.evaluate_generator(test_generator, verbose=0)"
      ],
      "metadata": {
        "colab": {
          "base_uri": "https://localhost:8080/"
        },
        "id": "Ik3qs13wfc4X",
        "outputId": "dc9c0bb2-db15-4c9a-c739-5546af932af8"
      },
      "execution_count": null,
      "outputs": [
        {
          "output_type": "stream",
          "name": "stderr",
          "text": [
            "<ipython-input-28-a68ec1088d46>:1: UserWarning: `Model.evaluate_generator` is deprecated and will be removed in a future version. Please use `Model.evaluate`, which supports generators.\n",
            "  model.evaluate_generator(test_generator, verbose=0)\n"
          ]
        },
        {
          "output_type": "execute_result",
          "data": {
            "text/plain": [
              "[0.012719179503619671, 0.08438749611377716]"
            ]
          },
          "metadata": {},
          "execution_count": 28
        }
      ]
    },
    {
      "cell_type": "code",
      "source": [
        "predictions=model.predict_generator(test_generator)"
      ],
      "metadata": {
        "colab": {
          "base_uri": "https://localhost:8080/"
        },
        "id": "BSTmM7VxfioG",
        "outputId": "89c26e52-c371-4489-ad9e-81d8b18fa9e1"
      },
      "execution_count": null,
      "outputs": [
        {
          "output_type": "stream",
          "name": "stderr",
          "text": [
            "<ipython-input-29-6ca49477046f>:1: UserWarning: `Model.predict_generator` is deprecated and will be removed in a future version. Please use `Model.predict`, which supports generators.\n",
            "  predictions=model.predict_generator(test_generator)\n"
          ]
        }
      ]
    },
    {
      "cell_type": "code",
      "source": [
        "x_test[:,1:][win_length:]"
      ],
      "metadata": {
        "colab": {
          "base_uri": "https://localhost:8080/"
        },
        "id": "tZUjbDPCehch",
        "outputId": "85add344-9887-4023-f9f3-0f625bc134a7"
      },
      "execution_count": null,
      "outputs": [
        {
          "output_type": "execute_result",
          "data": {
            "text/plain": [
              "array([[0.84210526],\n",
              "       [0.85263158],\n",
              "       [0.86315789],\n",
              "       [0.87368421],\n",
              "       [0.88421053],\n",
              "       [0.89473684],\n",
              "       [0.90526316],\n",
              "       [0.91578947],\n",
              "       [0.92631579],\n",
              "       [0.93684211],\n",
              "       [0.94736842],\n",
              "       [0.95789474],\n",
              "       [0.96842105],\n",
              "       [0.97894737],\n",
              "       [0.98947368],\n",
              "       [1.        ],\n",
              "       [0.        ],\n",
              "       [0.02105263],\n",
              "       [0.03157895],\n",
              "       [0.04210526],\n",
              "       [0.05263158],\n",
              "       [0.06315789],\n",
              "       [0.07368421],\n",
              "       [0.08421053],\n",
              "       [0.09473684],\n",
              "       [0.10526316],\n",
              "       [0.11578947],\n",
              "       [0.12631579],\n",
              "       [0.13684211],\n",
              "       [0.14736842],\n",
              "       [0.15789474],\n",
              "       [0.16842105],\n",
              "       [0.17894737],\n",
              "       [0.18947368],\n",
              "       [0.2       ],\n",
              "       [0.21052632],\n",
              "       [0.22105263],\n",
              "       [0.23157895],\n",
              "       [0.24210526],\n",
              "       [0.25263158],\n",
              "       [0.26315789],\n",
              "       [0.27368421],\n",
              "       [0.28421053],\n",
              "       [0.29473684],\n",
              "       [0.30526316],\n",
              "       [0.31578947],\n",
              "       [0.32631579],\n",
              "       [0.33684211],\n",
              "       [0.34736842],\n",
              "       [0.35789474],\n",
              "       [0.36842105],\n",
              "       [0.37894737],\n",
              "       [0.38947368],\n",
              "       [0.4       ],\n",
              "       [0.41052632],\n",
              "       [0.42105263],\n",
              "       [0.43157895],\n",
              "       [0.44210526],\n",
              "       [0.45263158],\n",
              "       [0.46315789],\n",
              "       [0.47368421],\n",
              "       [0.48421053],\n",
              "       [0.49473684],\n",
              "       [0.50526316],\n",
              "       [0.51578947],\n",
              "       [0.52631579],\n",
              "       [0.53684211],\n",
              "       [0.54736842],\n",
              "       [0.55789474],\n",
              "       [0.56842105],\n",
              "       [0.57894737],\n",
              "       [0.58947368],\n",
              "       [0.6       ],\n",
              "       [0.61052632],\n",
              "       [0.62105263],\n",
              "       [0.63157895],\n",
              "       [0.64210526],\n",
              "       [0.65263158],\n",
              "       [0.66315789],\n",
              "       [0.67368421],\n",
              "       [0.68421053],\n",
              "       [0.69473684],\n",
              "       [0.70526316],\n",
              "       [0.71578947],\n",
              "       [0.72631579],\n",
              "       [0.73684211],\n",
              "       [0.74736842],\n",
              "       [0.75789474],\n",
              "       [0.76842105],\n",
              "       [0.77894737],\n",
              "       [0.78947368],\n",
              "       [0.8       ],\n",
              "       [0.81052632],\n",
              "       [0.82105263],\n",
              "       [0.83157895],\n",
              "       [0.84210526],\n",
              "       [0.85263158],\n",
              "       [0.86315789],\n",
              "       [0.87368421],\n",
              "       [0.88421053],\n",
              "       [0.89473684],\n",
              "       [0.90526316],\n",
              "       [0.91578947],\n",
              "       [0.92631579],\n",
              "       [0.93684211],\n",
              "       [0.94736842],\n",
              "       [0.96842105],\n",
              "       [0.97894737],\n",
              "       [0.98947368],\n",
              "       [1.        ]])"
            ]
          },
          "metadata": {},
          "execution_count": 30
        }
      ]
    },
    {
      "cell_type": "code",
      "source": [
        "df_pred=pd.concat([pd.DataFrame(predictions), pd.DataFrame(x_test[:,1:][win_length:])],axis=1)"
      ],
      "metadata": {
        "id": "rM24wCydfVEH"
      },
      "execution_count": null,
      "outputs": []
    },
    {
      "cell_type": "code",
      "source": [
        "\n",
        "rev_trans=scaler.inverse_transform(df_pred)"
      ],
      "metadata": {
        "id": "Emgyys4riJzu"
      },
      "execution_count": null,
      "outputs": []
    },
    {
      "cell_type": "code",
      "source": [
        "df_final=df_input[predictions.shape[0]*-1:]\n"
      ],
      "metadata": {
        "id": "_vyCz6mgiQRG"
      },
      "execution_count": null,
      "outputs": []
    },
    {
      "cell_type": "code",
      "source": [
        "df_final.count()"
      ],
      "metadata": {
        "colab": {
          "base_uri": "https://localhost:8080/"
        },
        "id": "1rqgXf-eiXKA",
        "outputId": "63e607df-16c0-4734-950e-c4254641de99"
      },
      "execution_count": null,
      "outputs": [
        {
          "output_type": "execute_result",
          "data": {
            "text/plain": [
              "co2_per_cap    110\n",
              "country        110\n",
              "dtype: int64"
            ]
          },
          "metadata": {},
          "execution_count": 34
        }
      ]
    },
    {
      "cell_type": "code",
      "source": [
        "df_final['CarbonPred']=rev_trans[:,0]"
      ],
      "metadata": {
        "colab": {
          "base_uri": "https://localhost:8080/"
        },
        "id": "iEaIrXzGisiH",
        "outputId": "0aee5988-633b-489f-fa65-5d465f8ea7d2"
      },
      "execution_count": null,
      "outputs": [
        {
          "output_type": "stream",
          "name": "stderr",
          "text": [
            "<ipython-input-35-7cfe78cf29af>:1: SettingWithCopyWarning: \n",
            "A value is trying to be set on a copy of a slice from a DataFrame.\n",
            "Try using .loc[row_indexer,col_indexer] = value instead\n",
            "\n",
            "See the caveats in the documentation: https://pandas.pydata.org/pandas-docs/stable/user_guide/indexing.html#returning-a-view-versus-a-copy\n",
            "  df_final['CarbonPred']=rev_trans[:,0]\n"
          ]
        }
      ]
    },
    {
      "cell_type": "code",
      "source": [
        "df_final[['co2_per_cap','CarbonPred']].plot()"
      ],
      "metadata": {
        "colab": {
          "base_uri": "https://localhost:8080/",
          "height": 501
        },
        "id": "AwI4niq6i_8u",
        "outputId": "7efae68d-76fc-43d3-8d68-43a9b13388fe"
      },
      "execution_count": null,
      "outputs": [
        {
          "output_type": "execute_result",
          "data": {
            "text/plain": [
              "<matplotlib.axes._subplots.AxesSubplot at 0x7f046ed3db20>"
            ]
          },
          "metadata": {},
          "execution_count": 36
        },
        {
          "output_type": "display_data",
          "data": {
            "text/plain": [
              "<Figure size 720x576 with 1 Axes>"
            ],
            "image/png": "[encoded data removed]"
          },
          "metadata": {
            "needs_background": "light"
          }
        }
      ]
    }
  ]
}